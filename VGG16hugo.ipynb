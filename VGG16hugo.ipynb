{
 "cells": [
  {
   "cell_type": "code",
   "execution_count": 1,
   "metadata": {},
   "outputs": [
    {
     "name": "stderr",
     "output_type": "stream",
     "text": [
      "Using TensorFlow backend.\n",
      "/home/ubuntu/anaconda3/envs/tensorflow_p36/lib/python3.6/importlib/_bootstrap.py:219: RuntimeWarning: compiletime version 3.5 of module 'tensorflow.python.framework.fast_tensor_util' does not match runtime version 3.6\n",
      "  return f(*args, **kwds)\n"
     ]
    },
    {
     "name": "stdout",
     "output_type": "stream",
     "text": [
      "[name: \"/device:CPU:0\"\n",
      "device_type: \"CPU\"\n",
      "memory_limit: 268435456\n",
      "locality {\n",
      "}\n",
      "incarnation: 14521686956143902809\n",
      ", name: \"/device:GPU:0\"\n",
      "device_type: \"GPU\"\n",
      "memory_limit: 11324823962\n",
      "locality {\n",
      "  bus_id: 1\n",
      "}\n",
      "incarnation: 14048952974808641988\n",
      "physical_device_desc: \"device: 0, name: Tesla K80, pci bus id: 0000:00:1e.0, compute capability: 3.7\"\n",
      "]\n"
     ]
    }
   ],
   "source": [
    "from keras.models import Sequential, Model\n",
    "from keras.layers import BatchNormalization\n",
    "from keras.layers import Flatten, Dense, Dropout, GlobalAveragePooling2D\n",
    "from keras.layers.convolutional import Convolution2D, MaxPooling2D, ZeroPadding2D\n",
    "from keras.callbacks import ModelCheckpoint\n",
    "from keras.optimizers import SGD, RMSprop\n",
    "from keras.utils import to_categorical\n",
    "import cv2, numpy as np\n",
    "from keras.preprocessing.image import ImageDataGenerator, array_to_img, img_to_array, load_img\n",
    "from keras import applications\n",
    "from PIL import Image, ImageFile\n",
    "ImageFile.LOAD_TRUNCATED_IMAGES = True\n",
    "import xml.etree.cElementTree as ET\n",
    "import os\n",
    "import pandas as pd\n",
    "from sklearn.model_selection import train_test_split\n",
    "from sklearn.preprocessing import LabelEncoder\n",
    "from collections import Counter\n",
    "from shutil import copyfile\n",
    "from pathlib import Path\n",
    "from tensorflow.python.client import device_lib\n",
    "print(device_lib.list_local_devices())"
   ]
  },
  {
   "cell_type": "markdown",
   "metadata": {},
   "source": [
    "# Test VGG16"
   ]
  },
  {
   "cell_type": "markdown",
   "metadata": {},
   "source": []
  },
  {
   "cell_type": "code",
   "execution_count": 4,
   "metadata": {},
   "outputs": [
    {
     "name": "stdout",
     "output_type": "stream",
     "text": [
      "_________________________________________________________________\n",
      "Layer (type)                 Output Shape              Param #   \n",
      "=================================================================\n",
      "input_2 (InputLayer)         (None, 224, 224, 3)       0         \n",
      "_________________________________________________________________\n",
      "block1_conv1 (Conv2D)        (None, 224, 224, 64)      1792      \n",
      "_________________________________________________________________\n",
      "block1_conv2 (Conv2D)        (None, 224, 224, 64)      36928     \n",
      "_________________________________________________________________\n",
      "block1_pool (MaxPooling2D)   (None, 112, 112, 64)      0         \n",
      "_________________________________________________________________\n",
      "block2_conv1 (Conv2D)        (None, 112, 112, 128)     73856     \n",
      "_________________________________________________________________\n",
      "block2_conv2 (Conv2D)        (None, 112, 112, 128)     147584    \n",
      "_________________________________________________________________\n",
      "block2_pool (MaxPooling2D)   (None, 56, 56, 128)       0         \n",
      "_________________________________________________________________\n",
      "block3_conv1 (Conv2D)        (None, 56, 56, 256)       295168    \n",
      "_________________________________________________________________\n",
      "block3_conv2 (Conv2D)        (None, 56, 56, 256)       590080    \n",
      "_________________________________________________________________\n",
      "block3_conv3 (Conv2D)        (None, 56, 56, 256)       590080    \n",
      "_________________________________________________________________\n",
      "block3_pool (MaxPooling2D)   (None, 28, 28, 256)       0         \n",
      "_________________________________________________________________\n",
      "block4_conv1 (Conv2D)        (None, 28, 28, 512)       1180160   \n",
      "_________________________________________________________________\n",
      "block4_conv2 (Conv2D)        (None, 28, 28, 512)       2359808   \n",
      "_________________________________________________________________\n",
      "block4_conv3 (Conv2D)        (None, 28, 28, 512)       2359808   \n",
      "_________________________________________________________________\n",
      "block4_pool (MaxPooling2D)   (None, 14, 14, 512)       0         \n",
      "_________________________________________________________________\n",
      "block5_conv1 (Conv2D)        (None, 14, 14, 512)       2359808   \n",
      "_________________________________________________________________\n",
      "block5_conv2 (Conv2D)        (None, 14, 14, 512)       2359808   \n",
      "_________________________________________________________________\n",
      "block5_conv3 (Conv2D)        (None, 14, 14, 512)       2359808   \n",
      "_________________________________________________________________\n",
      "block5_pool (MaxPooling2D)   (None, 7, 7, 512)         0         \n",
      "_________________________________________________________________\n",
      "sequential_2 (Sequential)    (None, 100)               13261924  \n",
      "=================================================================\n",
      "Total params: 27,976,612\n",
      "Trainable params: 13,210,724\n",
      "Non-trainable params: 14,765,888\n",
      "_________________________________________________________________\n",
      "0   input_2\n",
      "1   block1_conv1\n",
      "2   block1_conv2\n",
      "3   block1_pool\n",
      "4   block2_conv1\n",
      "5   block2_conv2\n",
      "6   block2_pool\n",
      "7   block3_conv1\n",
      "8   block3_conv2\n",
      "9   block3_conv3\n",
      "10   block3_pool\n",
      "11   block4_conv1\n",
      "12   block4_conv2\n",
      "13   block4_conv3\n",
      "14   block4_pool\n",
      "15   block5_conv1\n",
      "16   block5_conv2\n",
      "17   block5_conv3\n",
      "18   block5_pool\n"
     ]
    }
   ],
   "source": [
    "nbClasses = 100\n",
    "img_rows, img_cols, img_channel = 224, 224, 3\n",
    "\n",
    "base_model = applications.VGG16(weights='imagenet', include_top=False, input_shape=(img_rows, img_cols, img_channel))\n",
    "\n",
    "add_model = Sequential()\n",
    "add_model.add(Flatten(input_shape=base_model.output_shape[1:]))\n",
    "add_model.add(BatchNormalization())\n",
    "add_model.add(Dense(512, activation='relu'))\n",
    "add_model.add(BatchNormalization())\n",
    "#add_model.add(Dropout(0.5))\n",
    "add_model.add(Dense(512, activation='relu'))\n",
    "add_model.add(Dense(nbClasses, activation='softmax'))\n",
    "\n",
    "model = Model(inputs=base_model.input, outputs=add_model(base_model.output))\n",
    "for layer in base_model.layers:\n",
    "    layer.trainable = False\n",
    "    \n",
    "model.compile(loss='categorical_crossentropy', optimizer=RMSprop(lr=0.00002),\n",
    "              metrics=['accuracy'])\n",
    "\n",
    "model.summary()\n",
    "\n",
    "for i, layer in enumerate(base_model.layers):\n",
    "    print(i, ' ', layer.name)"
   ]
  },
  {
   "cell_type": "code",
   "execution_count": 5,
   "metadata": {},
   "outputs": [
    {
     "name": "stdout",
     "output_type": "stream",
     "text": [
      "Found 8870 images belonging to 100 classes.\n",
      "Found 2658 images belonging to 100 classes.\n",
      "Found 2221 images belonging to 100 classes.\n",
      "Epoch 1/12\n",
      "277/277 [==============================] - 143s 516ms/step - loss: 4.6086 - acc: 0.0403 - val_loss: 4.1854 - val_acc: 0.0937\n",
      "Epoch 2/12\n",
      "277/277 [==============================] - 142s 512ms/step - loss: 4.0591 - acc: 0.1029 - val_loss: 3.8696 - val_acc: 0.1418\n",
      "Epoch 3/12\n",
      "277/277 [==============================] - 142s 514ms/step - loss: 3.7832 - acc: 0.1426 - val_loss: 3.7227 - val_acc: 0.1630\n",
      "Epoch 4/12\n",
      "277/277 [==============================] - 143s 516ms/step - loss: 3.6083 - acc: 0.1661 - val_loss: 3.6063 - val_acc: 0.1905\n",
      "Epoch 5/12\n",
      "277/277 [==============================] - 143s 516ms/step - loss: 3.4749 - acc: 0.1958 - val_loss: 3.5125 - val_acc: 0.2152\n",
      "Epoch 6/12\n",
      "277/277 [==============================] - 142s 513ms/step - loss: 3.3715 - acc: 0.2102 - val_loss: 3.4418 - val_acc: 0.2238\n",
      "Epoch 7/12\n",
      "277/277 [==============================] - 143s 516ms/step - loss: 3.2602 - acc: 0.2354 - val_loss: 3.3886 - val_acc: 0.2400\n",
      "Epoch 8/12\n",
      "277/277 [==============================] - 143s 515ms/step - loss: 3.1719 - acc: 0.2452 - val_loss: 3.3381 - val_acc: 0.2467\n",
      "Epoch 9/12\n",
      "277/277 [==============================] - 143s 516ms/step - loss: 3.0973 - acc: 0.2667 - val_loss: 3.2880 - val_acc: 0.2629\n",
      "Epoch 10/12\n",
      "277/277 [==============================] - 143s 515ms/step - loss: 3.0298 - acc: 0.2736 - val_loss: 3.2498 - val_acc: 0.2697\n",
      "Epoch 11/12\n",
      "277/277 [==============================] - 141s 511ms/step - loss: 2.9757 - acc: 0.2867 - val_loss: 3.2160 - val_acc: 0.2787\n",
      "Epoch 12/12\n",
      "277/277 [==============================] - 142s 514ms/step - loss: 2.8976 - acc: 0.3085 - val_loss: 3.1821 - val_acc: 0.2855\n",
      "Epoch 1/4\n",
      "277/277 [==============================] - 143s 517ms/step - loss: 2.8115 - acc: 0.3237 - val_loss: 3.1316 - val_acc: 0.2936\n",
      "Epoch 2/4\n",
      "277/277 [==============================] - 145s 523ms/step - loss: 2.7397 - acc: 0.3380 - val_loss: 3.0717 - val_acc: 0.3075\n",
      "Epoch 3/4\n",
      "277/277 [==============================] - 144s 521ms/step - loss: 2.6838 - acc: 0.3486 - val_loss: 3.0737 - val_acc: 0.3107\n",
      "Epoch 4/4\n",
      "277/277 [==============================] - 145s 522ms/step - loss: 2.6139 - acc: 0.3652 - val_loss: 3.0291 - val_acc: 0.3219\n",
      "Epoch 1/2\n",
      "277/277 [==============================] - 145s 524ms/step - loss: 2.5735 - acc: 0.3745 - val_loss: 3.0127 - val_acc: 0.3282\n",
      "Epoch 2/2\n",
      "277/277 [==============================] - 145s 522ms/step - loss: 2.5681 - acc: 0.3743 - val_loss: 3.0020 - val_acc: 0.3300\n"
     ]
    },
    {
     "data": {
      "text/plain": [
       "<keras.callbacks.History at 0x7f6764369f98>"
      ]
     },
     "execution_count": 5,
     "metadata": {},
     "output_type": "execute_result"
    }
   ],
   "source": [
    "data_path = '/data/test_5classes/'\n",
    "\n",
    "batch_size = 32\n",
    "epochs = 12\n",
    "\n",
    "train_datagen = ImageDataGenerator(\n",
    "    rescale=1./255,\n",
    "    rotation_range=40,\n",
    "    width_shift_range=0.2,\n",
    "    height_shift_range=0.2,\n",
    "    shear_range=0.2,\n",
    "    zoom_range=0.2,\n",
    "    horizontal_flip=True,\n",
    "    fill_mode='nearest')\n",
    "\n",
    "validation_datagen = ImageDataGenerator(rescale=1./255)\n",
    "test_datagen = ImageDataGenerator(rescale=1./255)\n",
    "\n",
    "train_generator = train_datagen.flow_from_directory(\n",
    "    data_path + 'Training/',  \n",
    "    target_size=(224,224),  \n",
    "    batch_size=batch_size)  \n",
    "\n",
    "\n",
    "validation_generator = validation_datagen.flow_from_directory(\n",
    "        data_path + 'Validation/',\n",
    "        target_size=(224,224),\n",
    "        batch_size=batch_size)\n",
    "\n",
    "test_generator = test_datagen.flow_from_directory(\n",
    "        data_path + 'Test/',\n",
    "        target_size=(224,224),\n",
    "        batch_size=batch_size)\n",
    "\n",
    "model.fit_generator(\n",
    "    train_generator,\n",
    "    steps_per_epoch= train_generator.n // batch_size,\n",
    "    epochs=epochs,\n",
    "    validation_data=test_generator,\n",
    "    callbacks=[ModelCheckpoint(data_path + 'VGG16-transferlearning.model', monitor='val_acc', save_best_only=True)]\n",
    ")\n",
    "#model.save_weights(data_path + 'weights/try_VGG16.h5')\n",
    "\n",
    "for layer in base_model.layers[:14]:\n",
    "    layer.trainable = False\n",
    "for layer in base_model.layers[14:]:\n",
    "    layer.trainable = True \n",
    "    \n",
    "model.compile(loss='categorical_crossentropy', optimizer=RMSprop(lr=0.00001),\n",
    "              metrics=['accuracy'])\n",
    "              \n",
    "model.fit_generator(\n",
    "   train_generator,\n",
    "    steps_per_epoch= train_generator.n // batch_size,\n",
    "   epochs=4,\n",
    "   validation_data=test_generator,\n",
    "   callbacks=[ModelCheckpoint(data_path + 'VGG16-transferlearning.model', monitor='val_acc', save_best_only=True)]\n",
    ")\n",
    "\n",
    "model.compile(loss='categorical_crossentropy', optimizer=RMSprop(lr=0.000001),\n",
    "            metrics=['accuracy'])\n",
    "              \n",
    "model.fit_generator(\n",
    "   train_generator,\n",
    "    steps_per_epoch= train_generator.n // batch_size,\n",
    "   epochs=2,\n",
    "   validation_data=test_generator,\n",
    "   callbacks=[ModelCheckpoint(data_path + 'VGG16-transferlearning.model', monitor='val_acc', save_best_only=True)]\n",
    ")"
   ]
  },
  {
   "cell_type": "code",
   "execution_count": 6,
   "metadata": {
    "collapsed": true
   },
   "outputs": [],
   "source": [
    "model.save_weights('/data/weights/vgg16_100classes_web.h5')"
   ]
  },
  {
   "cell_type": "code",
   "execution_count": 33,
   "metadata": {},
   "outputs": [
    {
     "name": "stdout",
     "output_type": "stream",
     "text": [
      "0.0665137614679\n"
     ]
    }
   ],
   "source": [
    "test_loss, test_acc = model.evaluate_generator(test_generator,109)\n",
    "print(test_acc)"
   ]
  }
 ],
 "metadata": {
  "kernelspec": {
   "display_name": "Python 3",
   "language": "python",
   "name": "python3"
  },
  "language_info": {
   "codemirror_mode": {
    "name": "ipython",
    "version": 3
   },
   "file_extension": ".py",
   "mimetype": "text/x-python",
   "name": "python",
   "nbconvert_exporter": "python",
   "pygments_lexer": "ipython3",
   "version": "3.6.3"
  }
 },
 "nbformat": 4,
 "nbformat_minor": 2
}
