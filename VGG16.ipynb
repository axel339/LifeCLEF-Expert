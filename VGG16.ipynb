{
 "cells": [
  {
   "cell_type": "code",
   "execution_count": 126,
   "metadata": {
    "collapsed": true
   },
   "outputs": [],
   "source": [
    "import cv2, numpy as np\n",
    "import xml.etree.cElementTree as ET\n",
    "import os\n",
    "import pandas as pd\n",
    "import operator\n",
    "import csv\n",
    "from math import log1p\n",
    "\n",
    "from collections import Counter\n",
    "from keras import applications\n",
    "from keras.callbacks import ModelCheckpoint\n",
    "from keras.layers import Flatten, Dense, Dropout, GlobalAveragePooling2D\n",
    "from keras.layers.convolutional import Convolution2D, MaxPooling2D, ZeroPadding2D\n",
    "from keras.models import Sequential, Model\n",
    "from keras.optimizers import SGD\n",
    "from keras.preprocessing.image import ImageDataGenerator, array_to_img, img_to_array, load_img\n",
    "from keras.utils import to_categorical\n",
    "from pathlib import Path\n",
    "from PIL import Image\n",
    "from sklearn.model_selection import train_test_split\n",
    "from sklearn.preprocessing import LabelEncoder\n",
    "from shutil import copyfile\n",
    "from tensorflow.python.client import device_lib\n",
    "\n",
    "Image.LOAD_TRUNCATED_IMAGES = True"
   ]
  },
  {
   "cell_type": "markdown",
   "metadata": {},
   "source": [
    "# Initialisation - Batch Image Test Train Validation"
   ]
  },
  {
   "cell_type": "code",
   "execution_count": 2,
   "metadata": {},
   "outputs": [
    {
     "name": "stdout",
     "output_type": "stream",
     "text": [
      "Found 299 images belonging to 5 classes.\n",
      "Found 129 images belonging to 5 classes.\n",
      "Found 132 images belonging to 5 classes.\n"
     ]
    }
   ],
   "source": [
    "data_path = './Data/'\n",
    "batch_size = 10\n",
    "epochs = 1\n",
    "nbClasses = 5\n",
    "img_rows, img_cols, img_channel = 224, 224, 3\n",
    "\n",
    "# Chemin du dossier des images à traiter\n",
    "path = \"./Data/Test\"\n",
    "# Chemin du fichier .csv contenant les information\n",
    "info = \"./Data/test.csv\"\n",
    "# Conserve les n_first classes ayant les plus meilleurs probabilités\n",
    "n_first = 4\n",
    "\n",
    "train_datagen = ImageDataGenerator(\n",
    "    rescale=1./255,\n",
    "    shear_range=0.2,\n",
    "    zoom_range=0.2,\n",
    "    horizontal_flip=True)\n",
    "\n",
    "validation_datagen = ImageDataGenerator(rescale=1./255)\n",
    "test_datagen = ImageDataGenerator(rescale=1./255)\n",
    "\n",
    "train_generator = train_datagen.flow_from_directory(\n",
    "    data_path + 'Training/',  \n",
    "    target_size=(img_rows,img_cols),  \n",
    "    batch_size=batch_size)  \n",
    "\n",
    "\n",
    "validation_generator = validation_datagen.flow_from_directory(\n",
    "        data_path + 'Validation/',\n",
    "        target_size=(img_rows,img_cols),\n",
    "        batch_size=batch_size)\n",
    "\n",
    "test_generator = test_datagen.flow_from_directory(\n",
    "        data_path + 'Test/',\n",
    "        target_size=(img_rows,img_cols),\n",
    "        batch_size=batch_size)"
   ]
  },
  {
   "cell_type": "markdown",
   "metadata": {},
   "source": [
    "# Modèle VGG16"
   ]
  },
  {
   "cell_type": "code",
   "execution_count": 3,
   "metadata": {
    "collapsed": true
   },
   "outputs": [],
   "source": [
    "base_model = applications.VGG16(weights='imagenet', include_top=False, input_shape=(img_rows, img_cols, img_channel))\n",
    "\n",
    "add_model = Sequential()\n",
    "add_model.add(Flatten(input_shape=base_model.output_shape[1:]))\n",
    "#add_model.add(Dense(256, activation='relu'))\n",
    "#add_model.add(BatchNormalization())\n",
    "add_model.add(Dense(128, activation='relu'))\n",
    "add_model.add(Dense(nbClasses, activation='softmax'))\n",
    "\n",
    "model_vgg16 = Model(inputs=base_model.input, outputs=add_model(base_model.output))\n",
    "for layer in base_model.layers:\n",
    "    layer.trainable = False\n",
    "    \n",
    "model_vgg16.compile(loss='categorical_crossentropy', optimizer='rmsprop',\n",
    "              metrics=['accuracy'])"
   ]
  },
  {
   "cell_type": "code",
   "execution_count": 4,
   "metadata": {},
   "outputs": [
    {
     "name": "stdout",
     "output_type": "stream",
     "text": [
      "Epoch 1/1\n",
      "29/29 [==============================] - 330s 11s/step - loss: 11.2263 - acc: 0.2632 - val_loss: 11.4951 - val_acc: 0.2868\n"
     ]
    },
    {
     "data": {
      "text/plain": [
       "<keras.callbacks.History at 0x28834369a58>"
      ]
     },
     "execution_count": 4,
     "metadata": {},
     "output_type": "execute_result"
    }
   ],
   "source": [
    "model_vgg16.fit_generator(\n",
    "    train_generator,\n",
    "    steps_per_epoch= train_generator.n // batch_size,\n",
    "    epochs=epochs,\n",
    "    validation_data=validation_generator,\n",
    "    callbacks=[ModelCheckpoint(data_path + 'VGG16-transferlearning.model', monitor='val_acc', save_best_only=True)]\n",
    ")"
   ]
  },
  {
   "cell_type": "markdown",
   "metadata": {},
   "source": [
    "# Modèle VGG19"
   ]
  },
  {
   "cell_type": "code",
   "execution_count": 5,
   "metadata": {
    "collapsed": true
   },
   "outputs": [],
   "source": [
    "base_model = applications.VGG19(weights='imagenet', include_top=False, input_shape=(img_rows, img_cols, img_channel))\n",
    "\n",
    "add_model = Sequential()\n",
    "add_model.add(Flatten(input_shape=base_model.output_shape[1:]))\n",
    "add_model.add(Dense(256, activation='tanh'))\n",
    "add_model.add(Dense(256, activation='relu'))\n",
    "add_model.add(Dense(nbClasses, activation='softmax'))\n",
    "\n",
    "model_vgg19 = Model(inputs=base_model.input, outputs=add_model(base_model.output))\n",
    "for layer in base_model.layers:\n",
    "    layer.trainable = False\n",
    "    \n",
    "model_vgg19.compile(loss='categorical_crossentropy', optimizer='rmsprop',\n",
    "              metrics=['accuracy'])"
   ]
  },
  {
   "cell_type": "code",
   "execution_count": 6,
   "metadata": {},
   "outputs": [
    {
     "name": "stdout",
     "output_type": "stream",
     "text": [
      "Epoch 1/1\n",
      "29/29 [==============================] - 410s 14s/step - loss: 1.7670 - acc: 0.3046 - val_loss: 1.5656 - val_acc: 0.2868\n"
     ]
    },
    {
     "data": {
      "text/plain": [
       "<keras.callbacks.History at 0x28830ea1a58>"
      ]
     },
     "execution_count": 6,
     "metadata": {},
     "output_type": "execute_result"
    }
   ],
   "source": [
    "model_vgg19.fit_generator(\n",
    "    train_generator,\n",
    "    steps_per_epoch= train_generator.n // batch_size,\n",
    "    epochs=epochs,\n",
    "    validation_data=validation_generator,\n",
    "    callbacks=[ModelCheckpoint(data_path + 'VGG19-transferlearning.model', monitor='val_acc', save_best_only=True)]\n",
    ")"
   ]
  },
  {
   "cell_type": "markdown",
   "metadata": {},
   "source": [
    "# Evaluation des méthodes"
   ]
  },
  {
   "cell_type": "code",
   "execution_count": 47,
   "metadata": {},
   "outputs": [
    {
     "name": "stdout",
     "output_type": "stream",
     "text": [
      "erreur avec l'image ./Data/Test/331705/1656989.jpg\n",
      "erreur avec l'image ./Data/Test/331705/1656989.jpg\n"
     ]
    }
   ],
   "source": [
    "classes_dico = train_generator.class_indices\n",
    "classes_dico = {classes_dico[i]:i for i in classes_dico}\n",
    "\n",
    "def prediction(path, model, classes, n_first=len(path)):\n",
    "    im = cv2.resize(cv2.imread(path), (224, 224)).astype(np.float32)\n",
    "    im[:,:,0] -= 103.939\n",
    "    im[:,:,1] -= 116.779\n",
    "    im[:,:,2] -= 123.68\n",
    "    im = im.transpose((1,0,2))\n",
    "    im = np.expand_dims(im, axis=0)\n",
    "    out = model.predict(im)\n",
    "    b = {classes[i]: out[0][i] for i in range(len(out[0]))}\n",
    "    b = sorted(b.items(), key=operator.itemgetter(1), reverse = True)\n",
    "    b = b[:n_first]\n",
    "    return b\n",
    "\n",
    "def parcours(path, model , classes):\n",
    "    _list = os.listdir(path)\n",
    "    pred = dict()\n",
    "    for _dir in _list:\n",
    "        for elt in os.listdir(path+\"/\"+_dir):\n",
    "            image_name = elt[:elt.rfind(\".\")] \n",
    "            try:\n",
    "                pred[image_name] = prediction(path+\"/\"+_dir+\"/\"+elt, model, classes, n_first)\n",
    "            except:\n",
    "                print (\"erreur avec l'image \"+path+\"/\"+_dir+\"/\"+elt)\n",
    "    return pred\n",
    "\n",
    "vgg16_dico = parcours(path, model_vgg16 , classes_dico)\n",
    "vgg19_dico = parcours(path, model_vgg19 , classes_dico)"
   ]
  },
  {
   "cell_type": "code",
   "execution_count": 1,
   "metadata": {
    "collapsed": true
   },
   "outputs": [],
   "source": [
    "def agrege(dico,tab):\n",
    "    for rang in range(len(tab)):\n",
    "        classes = tab[rang][0]\n",
    "        if tab[rang][1] == 0:\n",
    "            proba = 1e-32\n",
    "        elif tab[rang][1] == 1:\n",
    "            proba = 0.9\n",
    "        else:\n",
    "            proba = tab[rang][1]\n",
    "        val = -1.0/((rang+1.0)*log(proba))\n",
    "        if classes in dico:\n",
    "            dico[classes] = dico[classes]+val\n",
    "        else:\n",
    "            dico[classes] = val\n",
    "    return dico\n",
    "\n",
    "def id_to_name (path):\n",
    "    \"\"\"\n",
    "    Crée un dictionnaire ayant pour index le nom de l'image sans l'extension et le nom de l'espèce\n",
    "    \"\"\"\n",
    "    dico = dict()\n",
    "    with open(path, 'r') as csvfile:\n",
    "        spamreader = csv.reader(csvfile, delimiter=',')\n",
    "        header = True\n",
    "        for row in spamreader:\n",
    "            if header:\n",
    "                header = not header\n",
    "                index = row.index(\"ClassId\")\n",
    "                Species = row.index(\"Species\")\n",
    "                Genus = row.index(\"Genus\")\n",
    "                Family = row.index(\"Family\")\n",
    "            else:\n",
    "                dico[row[index]] = row[Family]+\"-\"+row[Genus]+\"-\"+row[Species]\n",
    "    return dico\n",
    "\n",
    "def scrutin(dico, *pred):\n",
    "    pred = list(pred)\n",
    "    vote = dict()\n",
    "    if (len(pred) > 1):\n",
    "        first = pred.pop(0)\n",
    "        for i in first:\n",
    "            tmp = agrege(dict(),first[i])\n",
    "            for j in pred:\n",
    "                tmp = agrege(tmp,j[i])\n",
    "            vote[i] = dico[sorted(tmp.items(), key=operator.itemgetter(1), reverse=True)[0][0]]\n",
    "    return vote\n",
    "        "
   ]
  },
  {
   "cell_type": "code",
   "execution_count": 199,
   "metadata": {
    "collapsed": true
   },
   "outputs": [],
   "source": [
    "dico = id_to_name(info)\n",
    "decision = scrutin(dico,vgg16_dico,vgg19_dico)"
   ]
  },
  {
   "cell_type": "code",
   "execution_count": 200,
   "metadata": {},
   "outputs": [
    {
     "name": "stdout",
     "output_type": "stream",
     "text": [
      "1445002 : Zygophyllaceae Larrea divaricata Cav.\n",
      "1445036 : Zygophyllaceae Larrea divaricata Cav.\n",
      "1445058 : Zygophyllaceae Larrea divaricata Cav.\n",
      "1445066 : Zygophyllaceae Larrea divaricata Cav.\n",
      "1445078 : Zygophyllaceae Larrea divaricata Cav.\n",
      "1445105 : Zygophyllaceae Larrea divaricata Cav.\n",
      "1445136 : Zygophyllaceae Larrea divaricata Cav.\n",
      "1445154 : Zygophyllaceae Larrea divaricata Cav.\n",
      "1445155 : Zygophyllaceae Larrea divaricata Cav.\n",
      "1445160 : Zygophyllaceae Larrea divaricata Cav.\n",
      "1445161 : Zygophyllaceae Larrea divaricata Cav.\n",
      "1445179 : Zygophyllaceae Larrea divaricata Cav.\n",
      "1445183 : Zygophyllaceae Larrea divaricata Cav.\n",
      "1445184 : Zygophyllaceae Larrea divaricata Cav.\n",
      "1445186 : Zygophyllaceae Larrea divaricata Cav.\n",
      "1445199 : Zygophyllaceae Larrea divaricata Cav.\n",
      "1445203 : Zygophyllaceae Larrea divaricata Cav.\n",
      "1445209 : Zygophyllaceae Larrea divaricata Cav.\n",
      "1445210 : Zygophyllaceae Larrea divaricata Cav.\n",
      "1445211 : Zygophyllaceae Larrea divaricata Cav.\n",
      "1445212 : Zygophyllaceae Larrea divaricata Cav.\n",
      "1445219 : Zygophyllaceae Larrea divaricata Cav.\n",
      "1445254 : Zygophyllaceae Larrea divaricata Cav.\n",
      "1445255 : Zygophyllaceae Larrea divaricata Cav.\n",
      "1445257 : Zygophyllaceae Larrea divaricata Cav.\n",
      "1445265 : Zygophyllaceae Larrea divaricata Cav.\n",
      "1445270 : Zygophyllaceae Larrea divaricata Cav.\n",
      "1445272 : Zygophyllaceae Larrea divaricata Cav.\n",
      "1445274 : Zygophyllaceae Larrea divaricata Cav.\n",
      "1445294 : Zygophyllaceae Larrea divaricata Cav.\n",
      "1445297 : Zygophyllaceae Larrea divaricata Cav.\n",
      "1445299 : Zygophyllaceae Larrea divaricata Cav.\n",
      "1445308 : Zygophyllaceae Larrea divaricata Cav.\n",
      "1445311 : Zygophyllaceae Larrea divaricata Cav.\n",
      "1445312 : Zygophyllaceae Larrea divaricata Cav.\n",
      "1445315 : Zygophyllaceae Larrea divaricata Cav.\n",
      "1445317 : Zygophyllaceae Larrea divaricata Cav.\n",
      "1445331 : Zygophyllaceae Larrea divaricata Cav.\n",
      "1633280 : Zygophyllaceae Larrea divaricata Cav.\n",
      "1633281 : Zygophyllaceae Larrea divaricata Cav.\n",
      "1633282 : Zygophyllaceae Larrea divaricata Cav.\n",
      "1633292 : Zygophyllaceae Larrea divaricata Cav.\n",
      "1633293 : Zygophyllaceae Larrea divaricata Cav.\n",
      "1633295 : Zygophyllaceae Larrea divaricata Cav.\n",
      "1633305 : Zygophyllaceae Larrea divaricata Cav.\n",
      "1633309 : Zygophyllaceae Larrea divaricata Cav.\n",
      "1633310 : Zygophyllaceae Larrea divaricata Cav.\n",
      "1633314 : Zygophyllaceae Larrea divaricata Cav.\n",
      "1633315 : Zygophyllaceae Larrea divaricata Cav.\n",
      "1633320 : Zygophyllaceae Larrea divaricata Cav.\n",
      "1633344 : Zygophyllaceae Larrea divaricata Cav.\n",
      "1633346 : Zygophyllaceae Larrea divaricata Cav.\n",
      "1633372 : Zygophyllaceae Larrea divaricata Cav.\n",
      "1633380 : Zygophyllaceae Larrea divaricata Cav.\n",
      "1633382 : Zygophyllaceae Larrea divaricata Cav.\n",
      "1633384 : Zygophyllaceae Larrea divaricata Cav.\n",
      "1633388 : Zygophyllaceae Larrea divaricata Cav.\n",
      "1633392 : Zygophyllaceae Larrea divaricata Cav.\n",
      "1633397 : Zygophyllaceae Larrea divaricata Cav.\n",
      "1656773 : Zygophyllaceae Larrea divaricata Cav.\n",
      "1656803 : Zygophyllaceae Larrea divaricata Cav.\n",
      "1656856 : Zygophyllaceae Larrea divaricata Cav.\n",
      "1656911 : Zygophyllaceae Larrea divaricata Cav.\n",
      "1656922 : Zygophyllaceae Larrea divaricata Cav.\n",
      "1656927 : Zygophyllaceae Larrea divaricata Cav.\n",
      "1656928 : Zygophyllaceae Larrea divaricata Cav.\n",
      "1656933 : Zygophyllaceae Larrea divaricata Cav.\n",
      "1656936 : Zygophyllaceae Larrea divaricata Cav.\n",
      "1656946 : Zygophyllaceae Larrea divaricata Cav.\n",
      "1656954 : Zygophyllaceae Larrea divaricata Cav.\n",
      "1656959 : Zygophyllaceae Larrea divaricata Cav.\n",
      "1656964 : Zygophyllaceae Larrea divaricata Cav.\n",
      "1656965 : Zygophyllaceae Larrea divaricata Cav.\n",
      "1656966 : Zygophyllaceae Larrea divaricata Cav.\n",
      "1656973 : Zygophyllaceae Larrea divaricata Cav.\n",
      "1656975 : Zygophyllaceae Larrea divaricata Cav.\n",
      "1656988 : Zygophyllaceae Larrea divaricata Cav.\n",
      "1656993 : Zygophyllaceae Larrea divaricata Cav.\n",
      "1656995 : Zygophyllaceae Larrea divaricata Cav.\n",
      "1656998 : Zygophyllaceae Larrea divaricata Cav.\n",
      "1657001 : Zygophyllaceae Larrea divaricata Cav.\n",
      "1657013 : Zygophyllaceae Larrea divaricata Cav.\n",
      "1657015 : Zygophyllaceae Larrea divaricata Cav.\n",
      "1657017 : Zygophyllaceae Larrea divaricata Cav.\n",
      "1657026 : Zygophyllaceae Larrea divaricata Cav.\n",
      "1657028 : Zygophyllaceae Larrea divaricata Cav.\n",
      "1657047 : Zygophyllaceae Larrea divaricata Cav.\n",
      "1657048 : Zygophyllaceae Larrea divaricata Cav.\n",
      "1657054 : Zygophyllaceae Larrea divaricata Cav.\n",
      "1657060 : Zygophyllaceae Larrea divaricata Cav.\n",
      "1657066 : Zygophyllaceae Larrea divaricata Cav.\n",
      "2679845 : Zygophyllaceae Larrea divaricata Cav.\n",
      "2679881 : Zygophyllaceae Larrea divaricata Cav.\n",
      "2679907 : Zygophyllaceae Larrea divaricata Cav.\n",
      "2679914 : Zygophyllaceae Larrea divaricata Cav.\n",
      "2679919 : Zygophyllaceae Larrea divaricata Cav.\n",
      "2679925 : Zygophyllaceae Larrea divaricata Cav.\n",
      "2679942 : Zygophyllaceae Larrea divaricata Cav.\n",
      "2679971 : Zygophyllaceae Larrea divaricata Cav.\n",
      "2679972 : Zygophyllaceae Larrea divaricata Cav.\n",
      "2679989 : Zygophyllaceae Larrea divaricata Cav.\n",
      "2679997 : Zygophyllaceae Larrea divaricata Cav.\n",
      "2680002 : Zygophyllaceae Larrea divaricata Cav.\n",
      "2680016 : Zygophyllaceae Larrea divaricata Cav.\n",
      "2680017 : Zygophyllaceae Larrea divaricata Cav.\n",
      "2680021 : Zygophyllaceae Larrea divaricata Cav.\n",
      "2680025 : Zygophyllaceae Larrea divaricata Cav.\n",
      "2680030 : Zygophyllaceae Larrea divaricata Cav.\n",
      "2680033 : Zygophyllaceae Larrea divaricata Cav.\n",
      "2680035 : Zygophyllaceae Larrea divaricata Cav.\n",
      "2680063 : Zygophyllaceae Larrea divaricata Cav.\n",
      "2680064 : Zygophyllaceae Larrea divaricata Cav.\n",
      "2680069 : Zygophyllaceae Larrea divaricata Cav.\n",
      "2680072 : Zygophyllaceae Larrea divaricata Cav.\n",
      "2680084 : Zygophyllaceae Larrea divaricata Cav.\n",
      "2680085 : Zygophyllaceae Larrea divaricata Cav.\n",
      "2680087 : Zygophyllaceae Larrea divaricata Cav.\n",
      "2680089 : Zygophyllaceae Larrea divaricata Cav.\n",
      "2680091 : Zygophyllaceae Larrea divaricata Cav.\n",
      "2680125 : Zygophyllaceae Larrea divaricata Cav.\n",
      "2680126 : Zygophyllaceae Larrea divaricata Cav.\n",
      "2680132 : Zygophyllaceae Larrea divaricata Cav.\n",
      "2680145 : Zygophyllaceae Larrea divaricata Cav.\n",
      "2680151 : Zygophyllaceae Larrea divaricata Cav.\n",
      "2680156 : Zygophyllaceae Larrea divaricata Cav.\n",
      "2680161 : Zygophyllaceae Larrea divaricata Cav.\n",
      "2680164 : Zygophyllaceae Larrea divaricata Cav.\n",
      "2680167 : Zygophyllaceae Larrea divaricata Cav.\n",
      "2680174 : Zygophyllaceae Larrea divaricata Cav.\n",
      "2680179 : Zygophyllaceae Larrea divaricata Cav.\n",
      "2680184 : Zygophyllaceae Larrea divaricata Cav.\n"
     ]
    }
   ],
   "source": [
    "for i in decision:\n",
    "    print (str(i)+\" : \"+str(decision[i]))"
   ]
  }
 ],
 "metadata": {
  "kernelspec": {
   "display_name": "Python 3",
   "language": "python",
   "name": "python3"
  },
  "language_info": {
   "codemirror_mode": {
    "name": "ipython",
    "version": 3
   },
   "file_extension": ".py",
   "mimetype": "text/x-python",
   "name": "python",
   "nbconvert_exporter": "python",
   "pygments_lexer": "ipython3",
   "version": "3.6.3"
  }
 },
 "nbformat": 4,
 "nbformat_minor": 2
}
